{
 "cells": [
  {
   "cell_type": "code",
   "execution_count": null,
   "metadata": {},
   "outputs": [],
   "source": [
    "import pandas as pd\n",
    "import json\n",
    "from urllib.request import urlopen"
   ]
  },
  {
   "cell_type": "code",
   "execution_count": 1,
   "metadata": {},
   "outputs": [],
   "source": [
    "with open('./api_key.txt', 'r') as ff:\n",
    "    API_KEY = ff.read()"
   ]
  },
  {
   "cell_type": "code",
   "execution_count": 2,
   "metadata": {},
   "outputs": [],
   "source": [
    "COMPANY_NAME = 'AAPL'\n",
    "URL_INCOME = \"https://financialmodelingprep.com/api/v3/income-statement/\"\n",
    "URL_BALANCE = \"https://financialmodelingprep.com/api/v3/balance-sheet-statement/\"\n",
    "URL_CASHFLOW = \"https://financialmodelingprep.com/api/v3/cash-flow-statement/\"\n",
    "LIMIT = '20'\n",
    "LIMIT_Q = '80'"
   ]
  },
  {
   "cell_type": "code",
   "execution_count": 3,
   "metadata": {},
   "outputs": [],
   "source": [
    "def get_jsonparsed_data(url):\n",
    "    \"\"\"\n",
    "    Receive the content of ``url``, parse it as JSON and return the object.\n",
    "\n",
    "    Parameters\n",
    "    ----------\n",
    "    url : str\n",
    "\n",
    "    Returns\n",
    "    -------\n",
    "    dict\n",
    "    \"\"\"\n",
    "    response = urlopen(url)\n",
    "    data = response.read().decode(\"utf-8\")\n",
    "    return json.loads(data)"
   ]
  },
  {
   "cell_type": "code",
   "execution_count": 11,
   "metadata": {},
   "outputs": [
    {
     "name": "stdout",
     "output_type": "stream",
     "text": [
      "5 5 5\n"
     ]
    }
   ],
   "source": [
    "res_income = get_jsonparsed_data(URL_INCOME + COMPANY_NAME + '?limit=' + LIMIT + '&apikey=' + API_KEY)\n",
    "with open('./data/%s/%s_income.json'%(COMPANY_NAME, COMPANY_NAME.lower()), 'w') as result_file:\n",
    "    json.dump(res_income, result_file)\n",
    "    \n",
    "res_balance = get_jsonparsed_data(URL_BALANCE + COMPANY_NAME + '?limit=' + LIMIT + '&apikey=' + API_KEY)\n",
    "with open('./data/%s/%s_balance.json'%(COMPANY_NAME, COMPANY_NAME.lower()), 'w') as result_file:\n",
    "    json.dump(res_balance, result_file)\n",
    "    \n",
    "res_cashflow = get_jsonparsed_data(URL_CASHFLOW + COMPANY_NAME + '?limit=' + LIMIT + '&apikey=' + API_KEY)\n",
    "with open('./data/%s/%s_cashflow.json'%(COMPANY_NAME, COMPANY_NAME.lower()), 'w') as result_file:\n",
    "    json.dump(res_cashflow, result_file)\n",
    "\n",
    "print(len(res_income), len(res_balance), len(res_cashflow))"
   ]
  }
 ],
 "metadata": {
  "kernelspec": {
   "display_name": "Python 3",
   "language": "python",
   "name": "python3"
  },
  "language_info": {
   "codemirror_mode": {
    "name": "ipython",
    "version": 3
   },
   "file_extension": ".py",
   "mimetype": "text/x-python",
   "name": "python",
   "nbconvert_exporter": "python",
   "pygments_lexer": "ipython3",
   "version": "3.9.18"
  }
 },
 "nbformat": 4,
 "nbformat_minor": 2
}
