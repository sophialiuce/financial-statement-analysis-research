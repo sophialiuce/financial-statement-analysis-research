{
 "cells": [
  {
   "cell_type": "code",
   "execution_count": null,
   "metadata": {},
   "outputs": [],
   "source": [
    "import pandas as pd\n",
    "import json\n",
    "from urllib.request import urlopen"
   ]
  },
  {
   "cell_type": "code",
   "execution_count": 1,
   "metadata": {},
   "outputs": [],
   "source": [
    "with open('./api_key.txt', 'r') as ff:\n",
    "    API_KEY = ff.read()"
   ]
  },
  {
   "cell_type": "code",
   "execution_count": 2,
   "metadata": {},
   "outputs": [],
   "source": [
    "COMPANY_NAME = 'AAPL'\n",
    "URL_INCOME = \"https://financialmodelingprep.com/api/v3/income-statement/\"\n",
    "URL_BALANCE = \"https://financialmodelingprep.com/api/v3/balance-sheet-statement/\"\n",
    "URL_CASHFLOW = \"https://financialmodelingprep.com/api/v3/cash-flow-statement/\"\n",
    "LIMIT = '20'\n",
    "LIMIT_Q = '80'"
   ]
  },
  {
   "cell_type": "code",
   "execution_count": 3,
   "metadata": {},
   "outputs": [],
   "source": [
    "def get_jsonparsed_data(url):\n",
    "    \"\"\"\n",
    "    Receive the content of ``url``, parse it as JSON and return the object.\n",
    "\n",
    "    Parameters\n",
    "    ----------\n",
    "    url : str\n",
    "\n",
    "    Returns\n",
    "    -------\n",
    "    dict\n",
    "    \"\"\"\n",
    "    response = urlopen(url)\n",
    "    data = response.read().decode(\"utf-8\")\n",
    "    return json.loads(data)"
   ]
  },
  {
   "cell_type": "code",
   "execution_count": 10,
   "metadata": {},
   "outputs": [
    {
     "ename": "AttributeError",
     "evalue": "'str' object has no attribute 'lowe'",
     "output_type": "error",
     "traceback": [
      "\u001b[0;31m---------------------------------------------------------------------------\u001b[0m",
      "\u001b[0;31mAttributeError\u001b[0m                            Traceback (most recent call last)",
      "Cell \u001b[0;32mIn[10], line 2\u001b[0m\n\u001b[1;32m      1\u001b[0m res_income \u001b[38;5;241m=\u001b[39m get_jsonparsed_data(URL_INCOME \u001b[38;5;241m+\u001b[39m COMPANY_NAME \u001b[38;5;241m+\u001b[39m \u001b[38;5;124m'\u001b[39m\u001b[38;5;124m?limit=\u001b[39m\u001b[38;5;124m'\u001b[39m \u001b[38;5;241m+\u001b[39m LIMIT \u001b[38;5;241m+\u001b[39m \u001b[38;5;124m'\u001b[39m\u001b[38;5;124m&apikey=\u001b[39m\u001b[38;5;124m'\u001b[39m \u001b[38;5;241m+\u001b[39m API_KEY)\n\u001b[0;32m----> 2\u001b[0m \u001b[38;5;28;01mwith\u001b[39;00m \u001b[38;5;28mopen\u001b[39m(\u001b[38;5;124m'\u001b[39m\u001b[38;5;124m./data/\u001b[39m\u001b[38;5;132;01m%s\u001b[39;00m\u001b[38;5;124m/\u001b[39m\u001b[38;5;132;01m%s\u001b[39;00m\u001b[38;5;124m_income.json\u001b[39m\u001b[38;5;124m'\u001b[39m\u001b[38;5;241m%\u001b[39m(COMPANY_NAME, \u001b[43mCOMPANY_NAME\u001b[49m\u001b[38;5;241;43m.\u001b[39;49m\u001b[43mlowe\u001b[49m()), \u001b[38;5;124m'\u001b[39m\u001b[38;5;124mw\u001b[39m\u001b[38;5;124m'\u001b[39m) \u001b[38;5;28;01mas\u001b[39;00m result_file:\n\u001b[1;32m      3\u001b[0m     json\u001b[38;5;241m.\u001b[39mdump(res_income, result_file)\n\u001b[1;32m      5\u001b[0m res_balance \u001b[38;5;241m=\u001b[39m get_jsonparsed_data(URL_BALANCE \u001b[38;5;241m+\u001b[39m COMPANY_NAME \u001b[38;5;241m+\u001b[39m \u001b[38;5;124m'\u001b[39m\u001b[38;5;124m?limit=\u001b[39m\u001b[38;5;124m'\u001b[39m \u001b[38;5;241m+\u001b[39m LIMIT \u001b[38;5;241m+\u001b[39m \u001b[38;5;124m'\u001b[39m\u001b[38;5;124m&apikey=\u001b[39m\u001b[38;5;124m'\u001b[39m \u001b[38;5;241m+\u001b[39m API_KEY)\n",
      "\u001b[0;31mAttributeError\u001b[0m: 'str' object has no attribute 'lowe'"
     ]
    }
   ],
   "source": [
    "res_income = get_jsonparsed_data(URL_INCOME + COMPANY_NAME + '?limit=' + LIMIT + '&apikey=' + API_KEY)\n",
    "with open('./data/%s/%s_income.json'%(COMPANY_NAME, COMPANY_NAME.lower()), 'w') as result_file:\n",
    "    json.dump(res_income, result_file)\n",
    "    \n",
    "res_balance = get_jsonparsed_data(URL_BALANCE + COMPANY_NAME + '?limit=' + LIMIT + '&apikey=' + API_KEY)\n",
    "with open('./data/%s/%s_balance.json'%(COMPANY_NAME, COMPANY_NAME.lower()), 'w') as result_file:\n",
    "    json.dump(res_balance, result_file)\n",
    "    \n",
    "res_cashflow = get_jsonparsed_data(URL_CASHFLOW + COMPANY_NAME + '?limit=' + LIMIT + '&apikey=' + API_KEY)\n",
    "with open('./data/%s/%s_cashflow.json'%(COMPANY_NAME, COMPANY_NAME.lower()), 'w') as result_file:\n",
    "    json.dump(res_cashflow, result_file)\n",
    "\n",
    "print(len(res_income), len(res_balance), len(res_cashflow))"
   ]
  }
 ],
 "metadata": {
  "kernelspec": {
   "display_name": "Python 3",
   "language": "python",
   "name": "python3"
  },
  "language_info": {
   "codemirror_mode": {
    "name": "ipython",
    "version": 3
   },
   "file_extension": ".py",
   "mimetype": "text/x-python",
   "name": "python",
   "nbconvert_exporter": "python",
   "pygments_lexer": "ipython3",
   "version": "3.9.18"
  }
 },
 "nbformat": 4,
 "nbformat_minor": 2
}
