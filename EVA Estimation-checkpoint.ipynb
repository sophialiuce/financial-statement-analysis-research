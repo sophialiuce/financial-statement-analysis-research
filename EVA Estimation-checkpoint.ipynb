{
 "cells": [
  {
   "cell_type": "code",
   "execution_count": 2,
   "metadata": {},
   "outputs": [],
   "source": [
    "import json"
   ]
  },
  {
   "cell_type": "code",
   "execution_count": 3,
   "metadata": {},
   "outputs": [],
   "source": [
    "with open('./data/aapl/AAPL_income.json', 'r') as ff:\n",
    "    income_statements = json.loads(ff.read())\n",
    "    \n",
    "with open('./data/aapl/AAPL_balance.json', 'r') as ff:\n",
    "    balance_statements = json.loads(ff.read())\n",
    "    \n",
    "with open('./data/aapl/AAPL_cashflow.json', 'r') as ff:\n",
    "    cashflow_statements = json.loads(ff.read())"
   ]
  },
  {
   "cell_type": "code",
   "execution_count": 4,
   "metadata": {},
   "outputs": [],
   "source": [
    "NUM_OF_ESTIMATION_YEARS = 3\n",
    "NUM_OF_ADJUSTMENT = 2\n",
    "DIFF_THRESHOLD = 1000000"
   ]
  },
  {
   "cell_type": "code",
   "execution_count": 6,
   "metadata": {},
   "outputs": [],
   "source": [
    "income_statement = income_statements[0]\n",
    "balance_statement = balance_statements[0]\n",
    "cashflow_statement = cashflow_statements[0]"
   ]
  },
  {
   "cell_type": "code",
   "execution_count": 7,
   "metadata": {},
   "outputs": [],
   "source": [
    "def Merge(dict1, dict2, dict3): \n",
    "    res = {**dict1, **dict2, **dict3} \n",
    "    return res \n",
    "\n",
    "statements = Merge(income_statement, balance_statement, cashflow_statement)"
   ]
  },
  {
   "cell_type": "code",
   "execution_count": 43,
   "metadata": {},
   "outputs": [
    {
     "data": {
      "text/plain": [
       "132449000000"
      ]
     },
     "execution_count": 43,
     "metadata": {},
     "output_type": "execute_result"
    }
   ],
   "source": [
    "143713000000 - 11264000000"
   ]
  },
  {
   "cell_type": "code",
   "execution_count": 41,
   "metadata": {},
   "outputs": [
    {
     "data": {
      "text/plain": [
       "{'date': '2020-09-26',\n",
       " 'symbol': 'AAPL',\n",
       " 'reportedCurrency': 'USD',\n",
       " 'fillingDate': '2020-10-30',\n",
       " 'acceptedDate': '2020-10-29 18:06:25',\n",
       " 'period': 'FY',\n",
       " 'revenue': 274515000000,\n",
       " 'costOfRevenue': 169559000000,\n",
       " 'grossProfit': 104956000000,\n",
       " 'grossProfitRatio': 0.38233247727810865,\n",
       " 'researchAndDevelopmentExpenses': 18752000000,\n",
       " 'generalAndAdministrativeExpenses': 19916000000,\n",
       " 'sellingAndMarketingExpenses': 0.0,\n",
       " 'otherExpenses': -87000000,\n",
       " 'operatingExpenses': 38668000000,\n",
       " 'costAndExpenses': 208227000000,\n",
       " 'interestExpense': 2873000000,\n",
       " 'depreciationAndAmortization': 11056000000,\n",
       " 'ebitda': 77344000000,\n",
       " 'ebitdaratio': 0.2817478097736007,\n",
       " 'operatingIncome': 66288000000,\n",
       " 'operatingIncomeRatio': 0.24147314354406862,\n",
       " 'totalOtherIncomeExpensesNet': -87000000,\n",
       " 'incomeBeforeTax': 67091000000,\n",
       " 'incomeBeforeTaxRatio': 0.24439830246070343,\n",
       " 'incomeTaxExpense': 9680000000,\n",
       " 'netIncome': 57411000000,\n",
       " 'netIncomeRatio': 0.20913611278072236,\n",
       " 'eps': 3.31,\n",
       " 'epsdiluted': 3.28,\n",
       " 'weightedAverageShsOut': 17352119000,\n",
       " 'weightedAverageShsOutDil': 17528214000,\n",
       " 'link': 'https://www.sec.gov/Archives/edgar/data/320193/000032019320000096/0000320193-20-000096-index.htm',\n",
       " 'finalLink': 'https://www.sec.gov/Archives/edgar/data/320193/000032019320000096/aapl-20200926.htm',\n",
       " 'cashAndCashEquivalents': 38016000000,\n",
       " 'shortTermInvestments': 52927000000,\n",
       " 'cashAndShortTermInvestments': 90943000000,\n",
       " 'netReceivables': 37445000000,\n",
       " 'inventory': -127000000,\n",
       " 'otherCurrentAssets': 11264000000,\n",
       " 'totalCurrentAssets': 143713000000,\n",
       " 'propertyPlantEquipmentNet': 36766000000,\n",
       " 'goodwill': 0.0,\n",
       " 'intangibleAssets': 0.0,\n",
       " 'goodwillAndIntangibleAssets': 0.0,\n",
       " 'longTermInvestments': 0.0,\n",
       " 'taxAssets': 0.0,\n",
       " 'otherNonCurrentAssets': 42522000000,\n",
       " 'totalNonCurrentAssets': 180175000000,\n",
       " 'otherAssets': 0.0,\n",
       " 'totalAssets': 323888000000,\n",
       " 'accountPayables': 42296000000,\n",
       " 'shortTermDebt': 13769000000,\n",
       " 'taxPayables': 0.0,\n",
       " 'deferredRevenue': 6643000000,\n",
       " 'otherCurrentLiabilities': 42684000000,\n",
       " 'totalCurrentLiabilities': 105392000000,\n",
       " 'longTermDebt': 98667000000,\n",
       " 'deferredRevenueNonCurrent': 0.0,\n",
       " 'deferredTaxLiabilitiesNonCurrent': 0.0,\n",
       " 'otherNonCurrentLiabilities': 26320000000,\n",
       " 'totalNonCurrentLiabilities': 153157000000,\n",
       " 'otherLiabilities': 0.0,\n",
       " 'totalLiabilities': 258549000000,\n",
       " 'commonStock': 50779000000,\n",
       " 'retainedEarnings': 14966000000,\n",
       " 'accumulatedOtherComprehensiveIncomeLoss': -406000000,\n",
       " 'othertotalStockholdersEquity': 0.0,\n",
       " 'totalStockholdersEquity': 65339000000,\n",
       " 'totalLiabilitiesAndStockholdersEquity': 323888000000,\n",
       " 'totalInvestments': 0.0,\n",
       " 'totalDebt': 112436000000,\n",
       " 'netDebt': 74420000000,\n",
       " 'deferredIncomeTax': -215000000,\n",
       " 'stockBasedCompensation': 6829000000,\n",
       " 'changeInWorkingCapital': 5690000000,\n",
       " 'accountsReceivables': 6917000000,\n",
       " 'accountsPayables': -4062000000,\n",
       " 'otherWorkingCapital': 1409000000,\n",
       " 'otherNonCashItems': -97000000,\n",
       " 'netCashProvidedByOperatingActivities': 80674000000,\n",
       " 'investmentsInPropertyPlantAndEquipment': -7309000000,\n",
       " 'acquisitionsNet': 0.0,\n",
       " 'purchasesOfInvestments': -115148000000,\n",
       " 'salesMaturitiesOfInvestments': 120483000000,\n",
       " 'otherInvestingActivites': -791000000,\n",
       " 'netCashUsedForInvestingActivites': -4289000000,\n",
       " 'debtRepayment': -12629000000,\n",
       " 'commonStockIssued': 880000000,\n",
       " 'commonStockRepurchased': -72358000000,\n",
       " 'dividendsPaid': -14081000000,\n",
       " 'otherFinancingActivites': -3760000000,\n",
       " 'netCashUsedProvidedByFinancingActivities': -86820000000,\n",
       " 'effectOfForexChangesOnCash': 0.0,\n",
       " 'netChangeInCash': -10435000000,\n",
       " 'cashAtEndOfPeriod': 39789000000,\n",
       " 'cashAtBeginningOfPeriod': 50224000000,\n",
       " 'operatingCashFlow': 80674000000,\n",
       " 'capitalExpenditure': -7309000000,\n",
       " 'freeCashFlow': 73365000000}"
      ]
     },
     "execution_count": 41,
     "metadata": {},
     "output_type": "execute_result"
    }
   ],
   "source": [
    "statements"
   ]
  },
  {
   "cell_type": "markdown",
   "metadata": {},
   "source": [
    "# WACC的获取"
   ]
  },
  {
   "cell_type": "code",
   "execution_count": 9,
   "metadata": {},
   "outputs": [],
   "source": [
    "# 通过EVA19.xls查得，WACC是在electrical equipment行业是6.35%：\n",
    "# 即r，即“贴现率”\n",
    "WACC = 0.0635"
   ]
  },
  {
   "cell_type": "markdown",
   "metadata": {},
   "source": [
    "# 增长率的获取"
   ]
  },
  {
   "cell_type": "code",
   "execution_count": 10,
   "metadata": {},
   "outputs": [],
   "source": [
    "# 通过histgr19.xls查得，expected growth in revenue (next 2 years) is 18.21%\n",
    "G = 0.1821 + 1"
   ]
  },
  {
   "cell_type": "markdown",
   "metadata": {},
   "source": [
    "# 开始预测"
   ]
  },
  {
   "cell_type": "code",
   "execution_count": 15,
   "metadata": {},
   "outputs": [],
   "source": [
    "variables_required = [\n",
    "    'date',\n",
    "    'revenue', 'costOfRevenue', \n",
    "    'generalAndAdministrativeExpenses', 'sellingAndMarketingExpenses',\n",
    "    'operatingIncome', 'operatingExpenses',\n",
    "    'totalAssets', 'totalInvestments', 'goodwill', 'otherNonCurrentAssets',\n",
    "    'shortTermDebt', 'longTermDebt', 'totalNonCurrentLiabilities',\n",
    "    'totalStockholdersEquity','totalLiabilitiesAndStockholdersEquity',\n",
    "    'shortTermDebt', 'longTermDebt',\n",
    "    'interestExpense', 'incomeTaxExpense', 'incomeBeforeTax',\n",
    "    'longTermInvestments',\n",
    "    'depreciationAndAmortization','cashAndCashEquivalents', 'netReceivables',\n",
    "    'inventory', 'accountPayables', 'taxPayables',\n",
    "    'propertyPlantEquipmentNet', # fixed assets\n",
    "    'deferredIncomeTax'\n",
    "]\n",
    "\n",
    "names = locals()\n",
    "\n",
    "for v in variables_required:\n",
    "    names[v] = statements[v]"
   ]
  },
  {
   "cell_type": "code",
   "execution_count": null,
   "metadata": {},
   "outputs": [],
   "source": [
    "variables_grow_with_rate = [\n",
    "    'revenue', 'costOfRevenue',\n",
    "    'generalAndAdministrativeExpenses', 'sellingAndMarketingExpenses',\n",
    "    'operatingIncome', 'operatingExpenses', 'depreciationAndAmortization'\n",
    "]\n",
    "\n",
    "def reset_variables(g):\n",
    "    for v in variables_grow_with_rate:\n",
    "        names[v] = v * g"
   ]
  },
  {
   "cell_type": "code",
   "execution_count": null,
   "metadata": {},
   "outputs": [],
   "source": [
    "variables_need_compare = [\n",
    "    'cashAndCashEquivalents', 'netReceivables',\n",
    "    'inventory',\n",
    "    'shortTermDebt',\n",
    "    'accountPayables', 'taxPayables',\n",
    "    'propertyPlantEquipmentNet', 'deferredIncomeTax',\n",
    "    'goodwill',\n",
    "    'totalStockholdersEquity', 'totalNonCurrentLiabilities'\n",
    "]\n",
    "def save_variables():\n",
    "    for v in variables_required:\n",
    "        names[v+'_0'] = statements[v]"
   ]
  },
  {
   "cell_type": "code",
   "execution_count": null,
   "metadata": {},
   "outputs": [],
   "source": [
    "### （一）经营活动预测\n",
    "li_op_sub = [\n",
    "    'costOfRevenue', \n",
    "    'generalAndAdministrativeExpenses', 'sellingAndMarketingExpenses'\n",
    "] # 没有营业税金及附加、补贴收入\n",
    "# 经营利润 = \n",
    "# ['revenue' - 以上 + 补贴收入 + 影响例如的其他科目（operatingIncome - 'operatingExpenses'）] * G\n",
    "\n",
    "### （二）经营性资产预测\n",
    "li_op_asset = [\n",
    "    'totalInvestments',\n",
    "    'goodwill',\n",
    "    'otherNonCurrentAssets'\n",
    "] # 没有可供出售得金融资产（约为0）、长期应收款（约为0）、递延所得税资产（约为0）\n",
    "# 经营性资产总计 = （totalAssets 减去以上）* G\n",
    "# 需要融资 = 经营性资产总计 / G * （G-1）\n",
    "\n",
    "### （三）经营性负债预测\n",
    "li_op_debt = [\n",
    "    'shortTermDebt',\n",
    "    'longTermDebt'\n",
    "]\n",
    "# 经营性负债总计 = （totalCurrentLiabilities 减去以上）* G\n",
    "# 经营项目提供的融资 = 经营性负债总计 / G * （G-1）\n",
    "# 实际融资需要 = 需要融资 - 经营项目提供的融资\n",
    "\n",
    "###（四） 融资需求解决\n",
    "# 股权比例(equityRatio) = \n",
    "# totalStockholdersEquity/totalLiabilitiesAndStockholdersEquity\n",
    "# 短期借款比例 = \n",
    "#【shortTermDebt/（shortTermDebt+longTermDebt）】* （1 - equityRatio）\n",
    "# 长期借款比例 = \n",
    "#【longTermDebt/（shortTermDebt+longTermDebt）】* （1 - equityRatio）\n",
    "\n",
    "# 股权融资 = 实际融资需要 * 股权比例\n",
    "# 短期融资 = 实际融资需要 * 短期借款比例\n",
    "# 长期融资 = 实际融资需要 * 长期借款比例\n",
    "\n",
    "# 财务费用 = interestExpense + ？？？\n",
    "# 实际利率 = 财务费用 / （shortTermDebt+longTermDebt）\n",
    "\n",
    "# 新增财务费用 = 实际利率 * （短期融资 + 长期融资）\n",
    "\n",
    "# 财务费用 = 财务费用 + 新增财务费用\n",
    "\n",
    "# 投资收益 = \n",
    "# 投资收益（salesMaturitiesOfInvestments - purchasesOfInvestments - otherInvestingActivites）??? * 1.15 ？？？\n",
    "\n",
    "# EBT = 经营利润 - 财务费用 + 投资收益\n",
    "\n",
    "# 实际税率 = incomeTaxExpense / incomeBeforeTax\n",
    "# 净利润 = EBT * （1-实际税率）\n",
    "\n",
    "# total Liablity Cache\n",
    "totalLiability_beginning = totalLiabilities"
   ]
  },
  {
   "cell_type": "code",
   "execution_count": 18,
   "metadata": {},
   "outputs": [
    {
     "name": "stdout",
     "output_type": "stream",
     "text": [
      "estimate year 2021 ...\n",
      "adjusting year ...\n",
      "adjusting year ...\n",
      "estimate year 2022 ...\n",
      "adjusting year ...\n",
      "adjusting year ...\n",
      "estimate year 2023 ...\n",
      "adjusting year ...\n",
      "adjusting year ...\n"
     ]
    }
   ],
   "source": [
    "discounted_FCF = []\n",
    "discounted_residualIncome = []\n",
    "\n",
    "for i in range(NUM_OF_ESTIMATION_YEARS):\n",
    "    print('estimate year %s ...' % str(int(date[:4]) + i + 1))\n",
    "    \n",
    "    adj = 0\n",
    "    diff = DIFF_THRESHOLD + 1\n",
    "    \n",
    "    G = pow(G, (i + 1))\n",
    "    \n",
    "    discountRate = pow((1+WACC), (i+1))\n",
    "    \n",
    "    save_variables()\n",
    "    \n",
    "    while adj < NUM_OF_ADJUSTMENT and abs(diff) > DIFF_THRESHOLD:\n",
    "        \n",
    "        adj += 1\n",
    "        \n",
    "        print('Adjusting %d ... DIFF: %d' % (adj, diff))\n",
    "    \n",
    "        # 经营活动预测\n",
    "        operatingProfit = revenue\n",
    "        for sub in li_op_sub:\n",
    "            operatingProfit -= sub\n",
    "        operatingProfit = operatingProfit #+ operatingIncome - operatingExpenses\n",
    "        operatingProfit = operatingProfit * G\n",
    "        revenueNew = revenue * G\n",
    "    \n",
    "        # 经营性资产预测\n",
    "        operatingAssets = totalAssets\n",
    "        for sub in li_op_asset:\n",
    "            operatingAssets -= sub\n",
    "        operatingAssets = operatingAssets * (revenueNew / revenue)\n",
    "        requiredFinancing = operatingAssets / G * (G - 1)\n",
    "    \n",
    "        # 经营性负债预测\n",
    "        operatingDebt = totalCurrentLiabilities\n",
    "        for sub in li_op_debt:\n",
    "            operatingDebt -= sub\n",
    "        operatingDebt = operatingDebt * G\n",
    "        providedFinancing = operatingDebt / G * (G - 1)\n",
    "        realRequiredFinancing = requiredFinancing - providedFinancing\n",
    "    \n",
    "        # 融资需求解决\n",
    "        equityRatio = totalStockholdersEquity/totalLiabilitiesAndStockholdersEquity\n",
    "        shortTermDebtRatio = [shortTermDebt/(shortTermDebt+longTermDebt)]* (1 - equityRatio)\n",
    "        longTermDebtRatio = [longTermDebt/(shortTermDebt+longTermDebt)]* (1 - equityRatio)\n",
    "    \n",
    "        equityFinancing = realRequiredFinancing * equityRatio\n",
    "        shortTermFinancing = realRequiredFinancing * shortTermDebtRatio\n",
    "        longTermFinancing = realRequiredFinancing * longTermDebtRatio\n",
    "    \n",
    "        financialExpense = interestExpense\n",
    "        realInterestRate = financialExpense / (shortTermDebt+longTermDebt)\n",
    "    \n",
    "        addedFinancialExpense = realInterestRate * (shortTermFinancing + longTermFinancing)\n",
    "        financialExpense += addedFinancialExpense\n",
    "    \n",
    "        investmentProfit = (salesMaturitiesOfInvestments - purchasesOfInvestments - otherInvestingActivites) * 1.15 # ???\n",
    "    \n",
    "        EBT = operatingProfit - financialExpense + investmentProfit\n",
    "        realTaxRate = incomeTaxExpense / incomeBeforeTax\n",
    "        incomeBeforeTax = EBT\n",
    "        incomeTaxExpense = EBT * realTaxRate\n",
    "        netProfit = EBT * (1-realTaxRate)\n",
    "    \n",
    "        # 股东权益预测\n",
    "        totalStockholdersEquity += netProfit \n",
    "        totalStockholdersEquity += equityFinancing\n",
    "    \n",
    "        # 负债预测\n",
    "        totalCurrentLiabilities = operatingDebt \n",
    "        totalCurrentLiabilities += shortTermFinancing\n",
    "        totalNonCurrentLiabilities += longTermFinancing\n",
    "        totalLiabilities = totalCurrentLiabilities + totalNonCurrentLiabilities\n",
    "    \n",
    "        # 资产预测\n",
    "        totalAssets = operatingAssets\n",
    "        for add in li_op_asset:\n",
    "            totalAssets += add\n",
    "        totalAssets += longTermInvestments * (1.15 - 1)\n",
    "    \n",
    "        # 判断调整方向：\n",
    "        diff = totalAssets - totalStockholdersEquity - totalLiabilities\n",
    "        if diff < 0 and abs(diff > DIFF_THRESHOLD): # cash not enough\n",
    "            totalAssets += abs(diff)\n",
    "        else: # need more short term debt\n",
    "            totalCurrentLiabilities += diff\n",
    "            shortTermDebt += diff\n",
    "            \n",
    "    # NOPAT 预测\n",
    "    reset_variables(G)\n",
    "    NOPAT = revenue - costOfRevenue - generalAndAdministrativeExpenses - sellingAndMarketingExpenses\n",
    "    NOPAT = NOPAT * (1-realTaxRate)\n",
    "    \n",
    "    # 自由现金流预测\n",
    "    FCF = depreciationAndAmortization\n",
    "    FCF += (deferredIncomeTax - deferredIncomeTax_0)\n",
    "    FCF -= (cashAndCashEquivalents + netReceivables - cashAndCashEquivalents_0 - netReceivables_0)\n",
    "    FCF -= (inventory - inventory_0)\n",
    "    FCF += (accountPayables + taxPayables + shortTermDebt - accountPayables_0 - taxPayables_0 - shortTermDebt_0)\n",
    "    FCF -= (propertyPlantEquipmentNet - propertyPlantEquipmentNet_0 + depreciationAndAmortization)\n",
    "    FCF -= (goodwill - goodwill_0)\n",
    "    \n",
    "    # 期末经营净资产\n",
    "    OPNAt_1 = shortTermDebt_0 + totalNonCurrentLiabilities_0 + totalStockholdersEquity_0\n",
    "    OPNAt = NOPAT - FCF\n",
    "    \n",
    "    # 基本收益以及剩余收益\n",
    "    basicEarnings = OPNAt_1 * WACC\n",
    "    residualIncome = NOPAT -  basicEarnings\n",
    "    \n",
    "    # 更新FCF和Residual Income的列表\n",
    "    discounted_FCF.append(FCF * discountRate)\n",
    "    discounted_residualIncome.append(residualIncome)\n",
    "    if i == 0:\n",
    "        OPNA0 = OPNAt_1\n",
    "    "
   ]
  },
  {
   "cell_type": "markdown",
   "metadata": {},
   "source": [
    "# EVA Estimation"
   ]
  },
  {
   "cell_type": "code",
   "execution_count": null,
   "metadata": {},
   "outputs": [],
   "source": [
    "OPNAn = OPNAt_1\n",
    "OPNAn_plus_1 = OPNAt\n",
    "\n",
    "sumOfResidualIncome = sum(discounted_residualIncome)\n",
    "perpetualAnnuityRIPV_EVA = discounted_residualIncome[-1] \n",
    "perpetualAnnuityRIPV_EVA -= (OPNAn_plus_1 - 1.03 * OPNAn) / (WACC - 0.03) / discountRate\n",
    "\n",
    "companyValue_EVA = OPNA0 + sumOfResidualIncome + perpetualAnnuityRIPV_EVA\n",
    "equityValue_EVA = companyValue_EVA - totalLiability_beginning"
   ]
  },
  {
   "cell_type": "markdown",
   "metadata": {},
   "source": [
    "# Discounted FCF Estimation"
   ]
  },
  {
   "cell_type": "code",
   "execution_count": null,
   "metadata": {},
   "outputs": [],
   "source": [
    "sumOfFCF = sum(discounted_FCF)\n",
    "perpetualAnnuityRIPV_FCF = discounted_FCF[-1] * 1.05 / (WACC - 0.05) / discountRate\n",
    "\n",
    "companyValue_FCF = sumOfFCF + perpetualAnnuityRIPV_FCF\n",
    "equityValue_FCF = companyValue_FCF - totalLiability_beginning"
   ]
  }
 ],
 "metadata": {
  "kernelspec": {
   "display_name": "Python 3",
   "language": "python",
   "name": "python3"
  },
  "language_info": {
   "codemirror_mode": {
    "name": "ipython",
    "version": 3
   },
   "file_extension": ".py",
   "mimetype": "text/x-python",
   "name": "python",
   "nbconvert_exporter": "python",
   "pygments_lexer": "ipython3",
   "version": "3.6.8"
  }
 },
 "nbformat": 4,
 "nbformat_minor": 2
}
